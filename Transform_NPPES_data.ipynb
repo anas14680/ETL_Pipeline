{
 "cells": [
  {
   "cell_type": "markdown",
   "metadata": {},
   "source": [
    "## Import Required Library and Packages."
   ]
  },
  {
   "cell_type": "code",
   "execution_count": 0,
   "metadata": {
    "application/vnd.databricks.v1+cell": {
     "cellMetadata": {
      "byteLimit": 2048000,
      "rowLimit": 10000
     },
     "inputWidgets": {},
     "nuid": "0b3050c8-9a14-444f-93e6-c64bcf2f02e3",
     "showTitle": false,
     "tableResultSettingsMap": {},
     "title": ""
    }
   },
   "outputs": [],
   "source": [
    "from pyspark.sql import SparkSession\n",
    "from pyspark.sql import SparkSession\n",
    "from pyspark.sql.functions import col, coalesce\n",
    "# Create a SparkSession\n",
    "spark = SparkSession.builder \\\n",
    "    .appName(\"Load CSV\") \\\n",
    "    .getOrCreate()\n",
    "\n",
    "\n",
    "spark.sparkContext.setLogLevel(\"ERROR\")\n",
    "\n",
    "aws_access_key = dbutils.secrets.get(scope=\"aws-secrets\", key=\"aws-access-key\")\n",
    "aws_secret_key = dbutils.secrets.get(scope=\"aws-secrets\", key=\"aws-secret-key\")\n",
    "\n",
    "spark.conf.set(\"fs.s3a.access.key\", aws_access_key)\n",
    "spark.conf.set(\"fs.s3a.secret.key\", aws_secret_key)\n",
    "spark.conf.set(\"fs.s3a.endpoint\", \"s3.amazonaws.com\")\n",
    "\n",
    "s3_loc = dbutils.widgets.get(\"s3_loc\")\n",
    "\n",
    "\n",
    "load_type = dbutils.widgets.get(\"s3_loc\")"
   ]
  },
  {
   "cell_type": "markdown",
   "metadata": {
    "application/vnd.databricks.v1+cell": {
     "cellMetadata": {},
     "inputWidgets": {},
     "nuid": "50568404-f2b8-4187-a1c9-8279c3b7dcae",
     "showTitle": false,
     "tableResultSettingsMap": {},
     "title": ""
    }
   },
   "source": [
    "## Load data into databricks from s3."
   ]
  },
  {
   "cell_type": "code",
   "execution_count": 0,
   "metadata": {
    "application/vnd.databricks.v1+cell": {
     "cellMetadata": {},
     "inputWidgets": {},
     "nuid": "183fea7b-94f3-4c5e-a133-9f8d28338dea",
     "showTitle": false,
     "tableResultSettingsMap": {},
     "title": ""
    }
   },
   "outputs": [],
   "source": [
    "nppes_data_renamed = spark.read.option(\"header\", \"true\").csv(\n",
    "    f\"s3://nppes-npi-directory/{s3_loc}/npidata_pfile_{s3_loc}.csv\", \n",
    "    header='True'\n",
    ")\n",
    "\n",
    "for col in nppes_data_renamed.columns:\n",
    "    remove_bracket_col = col.split('(')[0].strip()\n",
    "    new_col = remove_bracket_col.replace(\" \", \"_\")\n",
    "    nppes_data_renamed = nppes_data_renamed.withColumnRenamed(col, new_col)\n",
    "\n",
    "\n",
    "\n",
    "\n",
    "affiliations = spark.read.option(\"header\", \"true\").csv(\n",
    "    f\"s3://nppes-npi-directory/{s3_loc}/endpoint_pfile_{s3_loc}.csv\", \n",
    "    header='True'\n",
    ")\n",
    "\n",
    "for col in affiliations.columns:\n",
    "    remove_bracket_col = col.split('(')[0].strip()\n",
    "    new_col = remove_bracket_col.replace(\" \", \"_\")\n",
    "    affiliations = affiliations.withColumnRenamed(col, new_col)\n",
    "\n",
    "\n",
    "\n",
    "\n",
    "taxonomy_codes = spark.read.option(\"header\", \"true\").csv(\n",
    "    \"s3://nppes-npi-directory/nucc_taxonomy_250.csv\", \n",
    "    header='True'\n",
    ")\n",
    "\n",
    "for col in taxonomy_codes.columns:\n",
    "    remove_bracket_col = col.split('(')[0].strip()\n",
    "    new_col = remove_bracket_col.replace(\" \", \"_\")\n",
    "    taxonomy_codes = taxonomy_codes.withColumnRenamed(col, new_col)"
   ]
  },
  {
   "cell_type": "markdown",
   "metadata": {
    "application/vnd.databricks.v1+cell": {
     "cellMetadata": {},
     "inputWidgets": {},
     "nuid": "44ab77f7-c175-4aa5-9381-21768ce8c926",
     "showTitle": false,
     "tableResultSettingsMap": {},
     "title": ""
    }
   },
   "source": [
    "## Add Specialities to data"
   ]
  },
  {
   "cell_type": "code",
   "execution_count": 0,
   "metadata": {
    "application/vnd.databricks.v1+cell": {
     "cellMetadata": {
      "byteLimit": 2048000,
      "implicitDf": true,
      "rowLimit": 10000
     },
     "inputWidgets": {},
     "nuid": "4ac423b3-e22c-4136-a4fb-fca0b497f54b",
     "showTitle": false,
     "tableResultSettingsMap": {},
     "title": ""
    }
   },
   "outputs": [],
   "source": [
    "taxonomy_codes = taxonomy_codes.withColumnRenamed('NPI', 'Tax_NPI')\n",
    "taxonomy_cols = [f'Healthcare_Provider_Taxonomy_Code_{i}' for i in range(1,16)]\n",
    "\n",
    "nppes_data_coalesced = nppes_data_renamed.withColumn(\n",
    "    'Taxonomy_Code', \n",
    "    coalesce(*[nppes_data_renamed[col] for col in taxonomy_cols])\n",
    ")\n",
    "\n",
    "\n",
    "npi_specialties_assigned = nppes_data_coalesced.join(\n",
    "    taxonomy_codes, \n",
    "    on=nppes_data_coalesced['Taxonomy_Code'] == taxonomy_codes['Code'], \n",
    "    how='left'\n",
    ")\n"
   ]
  },
  {
   "cell_type": "markdown",
   "metadata": {
    "application/vnd.databricks.v1+cell": {
     "cellMetadata": {},
     "inputWidgets": {},
     "nuid": "43335d13-3c91-4148-abcc-fafb83689ce3",
     "showTitle": false,
     "tableResultSettingsMap": {},
     "title": ""
    }
   },
   "source": [
    "## Add affiliations data to specialties. "
   ]
  },
  {
   "cell_type": "code",
   "execution_count": 0,
   "metadata": {
    "application/vnd.databricks.v1+cell": {
     "cellMetadata": {
      "byteLimit": 2048000,
      "rowLimit": 10000
     },
     "inputWidgets": {},
     "nuid": "daec33b4-d930-4677-9f2a-aedc2d5e3331",
     "showTitle": false,
     "tableResultSettingsMap": {},
     "title": ""
    }
   },
   "outputs": [],
   "source": [
    "affiliations = affiliations.withColumnRenamed('NPI', 'Affiliated_NPI')\n",
    "\n",
    "available_affiliations = affiliations.filter(affiliations.Affiliation == \"Y\").select(\n",
    "    ['Affiliated_NPI', \n",
    "    'Affiliation_Legal_Business_Name', \n",
    "    'Affiliation_Address_Line_One', \n",
    "    'Affiliation_Address_Line_Two',\n",
    "    'Affiliation_Address_City',\n",
    "    'Affiliation_Address_State',\n",
    "    'Affiliation_Address_Country',\n",
    "    'Affiliation_Address_Postal_Code']\n",
    ")\n",
    "\n",
    "npi_affiliations_added = npi_specialties_assigned.join(\n",
    "    available_affiliations,\n",
    "    npi_specialties_assigned['NPI'] == available_affiliations['Affiliated_NPI'],\n",
    "    how = 'left'\n",
    ")\n",
    "\n",
    "\n",
    "\n"
   ]
  },
  {
   "cell_type": "markdown",
   "metadata": {
    "application/vnd.databricks.v1+cell": {
     "cellMetadata": {},
     "inputWidgets": {},
     "nuid": "950f6543-3cb0-4f72-98c2-19df89e2a946",
     "showTitle": false,
     "tableResultSettingsMap": {},
     "title": ""
    }
   },
   "source": [
    "## Remove deactivated NPIs from data. "
   ]
  },
  {
   "cell_type": "code",
   "execution_count": 0,
   "metadata": {
    "application/vnd.databricks.v1+cell": {
     "cellMetadata": {
      "byteLimit": 2048000,
      "rowLimit": 10000
     },
     "inputWidgets": {},
     "nuid": "1bffd597-ec16-4f88-b4aa-ae059db1270d",
     "showTitle": false,
     "tableResultSettingsMap": {},
     "title": ""
    }
   },
   "outputs": [],
   "source": [
    "reactivated_npis = npi_affiliations_added.filter(\n",
    "    npi_affiliations_added[\"NPI_Reactivation_Date\"] > npi_affiliations_added[\"NPI_Deactivation_Date\"]\n",
    "    )\n",
    "\n",
    "no_deactivated_npis = npi_affiliations_added.filter(\n",
    "    npi_affiliations_added['NPI_Deactivation_Date'].isNull()\n",
    ")\n",
    "\n",
    "activated_npis = no_deactivated_npis.union(reactivated_npis)"
   ]
  },
  {
   "cell_type": "markdown",
   "metadata": {
    "application/vnd.databricks.v1+cell": {
     "cellMetadata": {},
     "inputWidgets": {},
     "nuid": "033861bf-bf23-4c27-b9a0-8249e42b13ba",
     "showTitle": false,
     "tableResultSettingsMap": {},
     "title": ""
    }
   },
   "source": [
    "## Select relevant columns. "
   ]
  },
  {
   "cell_type": "code",
   "execution_count": 0,
   "metadata": {
    "application/vnd.databricks.v1+cell": {
     "cellMetadata": {
      "byteLimit": 2048000,
      "rowLimit": 10000
     },
     "inputWidgets": {},
     "nuid": "12829da5-1581-4cc0-a4a5-8566b90339e6",
     "showTitle": false,
     "tableResultSettingsMap": {},
     "title": ""
    }
   },
   "outputs": [],
   "source": [
    "rel_columns = [\n",
    "    'NPI',\n",
    "    'Entity_Type_Code',\n",
    "    'Provider_Organization_Name',\n",
    "    'Provider_Last_Name',\n",
    "    'Provider_First_Name',\n",
    "    'Provider_Middle_Name',\n",
    "    'Provider_First_Line_Business_Mailing_Address',\n",
    "    'Provider_Second_Line_Business_Mailing_Address',\n",
    "    'Provider_Business_Mailing_Address_City_Name',\n",
    "    'Provider_Business_Mailing_Address_State_Name',\n",
    "    'Provider_Business_Mailing_Address_Postal_Code',\n",
    "    'Provider_Business_Mailing_Address_Country_Code',\n",
    "    'Provider_Business_Mailing_Address_Telephone_Number',\n",
    "    'Provider_Business_Mailing_Address_Fax_Number',\n",
    "    'Provider_First_Line_Business_Practice_Location_Address',\n",
    "    'Provider_Second_Line_Business_Practice_Location_Address',\n",
    "    'Provider_Business_Practice_Location_Address_City_Name',\n",
    "    'Provider_Business_Practice_Location_Address_State_Name',\n",
    "    'Provider_Business_Practice_Location_Address_Postal_Code',\n",
    "    'Provider_Business_Practice_Location_Address_Country_Code',\n",
    "    'Provider_Business_Practice_Location_Address_Telephone_Number',\n",
    "    'Provider_Business_Practice_Location_Address_Fax_Number',\n",
    "    'Provider_Gender_Code',\n",
    "    'Grouping',\n",
    "    'Classification',\n",
    "    'Specialization',\n",
    "    'Affiliation_Legal_Business_Name',\n",
    "    'Affiliation_Address_Line_One',\n",
    "    'Affiliation_Address_Line_Two',\n",
    "    'Affiliation_Address_City',\n",
    "    'Affiliation_Address_State',\n",
    "    'Affiliation_Address_Country',\n",
    "    'Affiliation_Address_Postal_Code'\n",
    "]\n",
    "\n",
    "npis = activated_npis.select(rel_columns)"
   ]
  },
  {
   "cell_type": "markdown",
   "metadata": {
    "application/vnd.databricks.v1+cell": {
     "cellMetadata": {},
     "inputWidgets": {},
     "nuid": "5ba99962-1b19-44c1-9f44-c494643d5afb",
     "showTitle": false,
     "tableResultSettingsMap": {},
     "title": ""
    }
   },
   "source": [
    "## Load data based on load type. "
   ]
  },
  {
   "cell_type": "code",
   "execution_count": 0,
   "metadata": {
    "application/vnd.databricks.v1+cell": {
     "cellMetadata": {},
     "inputWidgets": {},
     "nuid": "8ee98330-20ec-4a19-b107-1555586ebb04",
     "showTitle": false,
     "tableResultSettingsMap": {},
     "title": ""
    }
   },
   "outputs": [],
   "source": [
    "if load_type == 'full':\n",
    "  npis.write.mode(\"overwrite\").saveAsTable(\"dbdemo.default.npi_reference_nppes\")\n",
    "\n",
    "elif load_type == 'incremental':\n",
    "  existing_npis = spark.read.table(\"dbdemo.default.npi_reference_nppes\")\n",
    "\n",
    "  new_npis_lst = [i[0] for i in npis.select('NPI').distinct().collect()]\n",
    "  old_npis = existing_npis.filter(~existing_npis[\"NPI\"].isin(new_npis_lst))\n",
    "  final_npi_data = npis.union(old_npis)\n",
    "  final_npi_data.write.mode(\"overwrite\").saveAsTable('npi_reference_nppes')"
   ]
  }
 ],
 "metadata": {
  "application/vnd.databricks.v1+notebook": {
   "computePreferences": null,
   "dashboards": [],
   "environmentMetadata": {
    "base_environment": "",
    "environment_version": "1"
   },
   "language": "python",
   "notebookMetadata": {
    "mostRecentlyExecutedCommandWithImplicitDF": {
     "commandId": -1,
     "dataframes": [
      "_sqldf"
     ]
    },
    "pythonIndentUnit": 4
   },
   "notebookName": "Transform_NPPES_data",
   "widgets": {}
  },
  "language_info": {
   "name": "python"
  }
 },
 "nbformat": 4,
 "nbformat_minor": 0
}
